{
 "cells": [
  {
   "cell_type": "code",
   "execution_count": 27,
   "id": "ff7c152b-a940-4357-a940-1b1f3c9082fa",
   "metadata": {},
   "outputs": [],
   "source": [
    "import numpy as np\n",
    "import pandas as pd\n",
    "import keras"
   ]
  },
  {
   "cell_type": "markdown",
   "id": "e2a35e77-cd30-4656-9629-2498b7bc8e8a",
   "metadata": {},
   "source": [
    "# time-series RNN"
   ]
  },
  {
   "cell_type": "code",
   "execution_count": 20,
   "id": "7b4c2687-b75f-40b2-b6cd-722795cfb609",
   "metadata": {},
   "outputs": [],
   "source": [
    "def generate_time_series(batch_size, n_steps):\n",
    "    freq1, freq2, offsets1, offsets2 = np.random.randn(4, batch_size, 1)\n",
    "    time = np.linspace(0, 1, n_steps)\n",
    "    series = 0.5 * np.sin((time - offsets1) * (freq1 * 10 + 10)) # 사인곡선1\n",
    "    series += 0.2 * np.sin((time - offsets2) * (freq2 * 20 + 20)) # 사인곡선2\n",
    "    series += 0.1 * (np.random.rand(batch_size, n_steps) - 0.5) # 잡음\n",
    "    return series[..., np.newaxis].astype(np.float32)"
   ]
  },
  {
   "cell_type": "code",
   "execution_count": 21,
   "id": "a3799ec1-9fe4-46d6-8cd5-36a375e00b7f",
   "metadata": {},
   "outputs": [
    {
     "data": {
      "text/plain": [
       "(10, 100, 1)"
      ]
     },
     "execution_count": 21,
     "metadata": {},
     "output_type": "execute_result"
    }
   ],
   "source": [
    "generate_time_series(10, 100).shape"
   ]
  },
  {
   "cell_type": "code",
   "execution_count": 22,
   "id": "21474a81-9e27-4cbe-a322-b205d8b62a4c",
   "metadata": {},
   "outputs": [
    {
     "data": {
      "text/plain": [
       "(10000, 51, 1)"
      ]
     },
     "execution_count": 22,
     "metadata": {},
     "output_type": "execute_result"
    }
   ],
   "source": [
    "n_steps = 50\n",
    "series = generate_time_series(10000, n_steps + 1)\n",
    "X_train, y_train = series[:7000, :n_steps], series[:7000, -1]\n",
    "X_valid, y_valid = series[7000:9000, :n_steps], series[7000:9000, -1]\n",
    "X_test, y_test = series[9000:, n_steps], series[9000:, -1]\n",
    "series.shape"
   ]
  },
  {
   "cell_type": "code",
   "execution_count": 28,
   "id": "b956c605-92bd-4abd-9e37-885e3dd87049",
   "metadata": {},
   "outputs": [
    {
     "data": {
      "text/plain": [
       "array([[[ 0.6578768 ],\n",
       "        [ 0.6028548 ],\n",
       "        [ 0.634234  ],\n",
       "        ...,\n",
       "        [ 0.5053164 ],\n",
       "        [ 0.5141787 ],\n",
       "        [ 0.42631835]],\n",
       "\n",
       "       [[ 0.05979533],\n",
       "        [-0.08104945],\n",
       "        [-0.09739082],\n",
       "        ...,\n",
       "        [-0.4012774 ],\n",
       "        [-0.481747  ],\n",
       "        [-0.5550133 ]],\n",
       "\n",
       "       [[ 0.17054854],\n",
       "        [ 0.2047667 ],\n",
       "        [ 0.11560676],\n",
       "        ...,\n",
       "        [-0.07835955],\n",
       "        [-0.07132339],\n",
       "        [-0.17307194]],\n",
       "\n",
       "       ...,\n",
       "\n",
       "       [[ 0.33915478],\n",
       "        [ 0.51451856],\n",
       "        [ 0.64108795],\n",
       "        ...,\n",
       "        [ 0.08727326],\n",
       "        [-0.09026548],\n",
       "        [-0.17206684]],\n",
       "\n",
       "       [[-0.03861173],\n",
       "        [-0.0307256 ],\n",
       "        [ 0.16205938],\n",
       "        ...,\n",
       "        [-0.32195264],\n",
       "        [-0.06512488],\n",
       "        [ 0.06109112]],\n",
       "\n",
       "       [[ 0.7204233 ],\n",
       "        [ 0.6955402 ],\n",
       "        [ 0.53014314],\n",
       "        ...,\n",
       "        [ 0.3152972 ],\n",
       "        [ 0.25276005],\n",
       "        [ 0.03793919]]], dtype=float32)"
      ]
     },
     "execution_count": 28,
     "metadata": {},
     "output_type": "execute_result"
    }
   ],
   "source": [
    "X_train"
   ]
  },
  {
   "cell_type": "code",
   "execution_count": null,
   "id": "5729dfc1-2c32-484e-a3e4-58c9fd47de0c",
   "metadata": {},
   "outputs": [],
   "source": [
    "#naive prediction\n",
    "y_pred = X_valid[:, -1]\n",
    "np.mean(keras.losses.mean_sqared_error(y_valid, y_pred))"
   ]
  },
  {
   "cell_type": "code",
   "execution_count": 29,
   "id": "42687335-3f2f-4fc3-9433-70b32764e539",
   "metadata": {},
   "outputs": [
    {
     "ename": "NameError",
     "evalue": "name 'input_shape' is not defined",
     "output_type": "error",
     "traceback": [
      "\u001b[1;31m---------------------------------------------------------------------------\u001b[0m",
      "\u001b[1;31mNameError\u001b[0m                                 Traceback (most recent call last)",
      "\u001b[1;32m~\\AppData\\Local\\Temp/ipykernel_12312/532124169.py\u001b[0m in \u001b[0;36m<module>\u001b[1;34m\u001b[0m\n\u001b[0;32m      1\u001b[0m \u001b[1;31m# 완전연결 네트워크\u001b[0m\u001b[1;33m\u001b[0m\u001b[1;33m\u001b[0m\u001b[1;33m\u001b[0m\u001b[0m\n\u001b[0;32m      2\u001b[0m model = keras.models.Sequential([\n\u001b[1;32m----> 3\u001b[1;33m     \u001b[0mkeras\u001b[0m\u001b[1;33m.\u001b[0m\u001b[0mlayers\u001b[0m\u001b[1;33m.\u001b[0m\u001b[0mFlatten\u001b[0m\u001b[1;33m(\u001b[0m\u001b[0minput_shape\u001b[0m\u001b[1;33m[\u001b[0m\u001b[1;36m50\u001b[0m\u001b[1;33m,\u001b[0m \u001b[1;36m1\u001b[0m\u001b[1;33m]\u001b[0m\u001b[1;33m)\u001b[0m\u001b[1;33m,\u001b[0m\u001b[1;33m\u001b[0m\u001b[1;33m\u001b[0m\u001b[0m\n\u001b[0m\u001b[0;32m      4\u001b[0m     \u001b[0mkeras\u001b[0m\u001b[1;33m.\u001b[0m\u001b[0mlayers\u001b[0m\u001b[1;33m.\u001b[0m\u001b[0mDense\u001b[0m\u001b[1;33m(\u001b[0m\u001b[1;36m1\u001b[0m\u001b[1;33m)\u001b[0m\u001b[1;33m\u001b[0m\u001b[1;33m\u001b[0m\u001b[0m\n\u001b[0;32m      5\u001b[0m ])\n",
      "\u001b[1;31mNameError\u001b[0m: name 'input_shape' is not defined"
     ]
    }
   ],
   "source": [
    "# 완전연결 네트워크\n",
    "model = keras.models.Sequential([\n",
    "    keras.layers.Flatten(input_shape[50, 1]),\n",
    "    keras.layers.Dense(1)\n",
    "])"
   ]
  },
  {
   "cell_type": "code",
   "execution_count": null,
   "id": "3725d8a7-2382-40af-99ea-b572c4f6dedf",
   "metadata": {},
   "outputs": [],
   "source": []
  },
  {
   "cell_type": "code",
   "execution_count": null,
   "id": "82c1dbfe-1ae3-4bd1-8ed1-1a9a02a86739",
   "metadata": {},
   "outputs": [],
   "source": []
  },
  {
   "cell_type": "code",
   "execution_count": null,
   "id": "d39ecbe9-f1e3-48ec-b612-827ceb077502",
   "metadata": {},
   "outputs": [],
   "source": []
  },
  {
   "cell_type": "code",
   "execution_count": null,
   "id": "25983719-9d2c-46f8-b7e1-422566b4aa46",
   "metadata": {},
   "outputs": [],
   "source": []
  },
  {
   "cell_type": "code",
   "execution_count": null,
   "id": "761a61b6-bd95-47fd-98f4-2d24b82ed8be",
   "metadata": {},
   "outputs": [],
   "source": []
  },
  {
   "cell_type": "code",
   "execution_count": null,
   "id": "a44aa4ce-17d1-455f-a4d5-e1edf7c7ce6c",
   "metadata": {},
   "outputs": [],
   "source": []
  },
  {
   "cell_type": "code",
   "execution_count": null,
   "id": "03e04ac3-eb45-4793-a835-966938616bb3",
   "metadata": {},
   "outputs": [],
   "source": []
  },
  {
   "cell_type": "code",
   "execution_count": null,
   "id": "74334b0b-2a8d-42d3-aa3f-c54486ef461b",
   "metadata": {},
   "outputs": [],
   "source": []
  },
  {
   "cell_type": "code",
   "execution_count": null,
   "id": "16c7b687-5301-4730-9958-e0c36744c28f",
   "metadata": {},
   "outputs": [],
   "source": []
  },
  {
   "cell_type": "code",
   "execution_count": null,
   "id": "4a14bc5d-efaf-4f9a-a211-f6b9df8faf52",
   "metadata": {},
   "outputs": [],
   "source": []
  },
  {
   "cell_type": "code",
   "execution_count": null,
   "id": "54f06014-fdf1-4620-a1ef-e1936fc45a28",
   "metadata": {},
   "outputs": [],
   "source": []
  },
  {
   "cell_type": "code",
   "execution_count": null,
   "id": "b1f88e6d-1a63-4845-a2d6-6b9e59372f2b",
   "metadata": {},
   "outputs": [],
   "source": []
  },
  {
   "cell_type": "code",
   "execution_count": null,
   "id": "7d6be9e9-957f-4076-b5dc-26fa098566e8",
   "metadata": {},
   "outputs": [],
   "source": []
  },
  {
   "cell_type": "code",
   "execution_count": null,
   "id": "a2abfb89-e31e-4ffe-9d8a-f9352fbf93e3",
   "metadata": {},
   "outputs": [],
   "source": []
  },
  {
   "cell_type": "code",
   "execution_count": null,
   "id": "4020ad33-6c67-4a54-8b97-9a3234dd8bac",
   "metadata": {},
   "outputs": [],
   "source": []
  },
  {
   "cell_type": "code",
   "execution_count": null,
   "id": "0dc0784e-eec0-4aae-b18c-9c4a326e7eaf",
   "metadata": {},
   "outputs": [],
   "source": []
  },
  {
   "cell_type": "code",
   "execution_count": null,
   "id": "fe568535-26bd-4f18-9abd-957f2486ec22",
   "metadata": {},
   "outputs": [],
   "source": []
  },
  {
   "cell_type": "code",
   "execution_count": null,
   "id": "dbbd114c-a5c5-4d53-95d1-294606ec7304",
   "metadata": {},
   "outputs": [],
   "source": []
  },
  {
   "cell_type": "code",
   "execution_count": null,
   "id": "08097f56-d715-4f50-b09c-3be266136d45",
   "metadata": {},
   "outputs": [],
   "source": []
  },
  {
   "cell_type": "code",
   "execution_count": null,
   "id": "7e8f5e20-29b1-4c22-a66d-e921d58d7121",
   "metadata": {},
   "outputs": [],
   "source": []
  },
  {
   "cell_type": "code",
   "execution_count": null,
   "id": "9261bd2f-d42d-4a7c-a8c6-b233b32a4d75",
   "metadata": {},
   "outputs": [],
   "source": []
  },
  {
   "cell_type": "code",
   "execution_count": null,
   "id": "fb3afbaa-691a-41e8-913b-e27737a31c22",
   "metadata": {},
   "outputs": [],
   "source": []
  },
  {
   "cell_type": "code",
   "execution_count": null,
   "id": "ae41bafc-7789-4bbc-933c-20be0b422920",
   "metadata": {},
   "outputs": [],
   "source": []
  },
  {
   "cell_type": "code",
   "execution_count": null,
   "id": "dc3a0732-df0f-46c5-ac70-d523fb1a8ab2",
   "metadata": {},
   "outputs": [],
   "source": []
  },
  {
   "cell_type": "code",
   "execution_count": null,
   "id": "812643a2-e2f9-4233-9bb1-8940a4ed32aa",
   "metadata": {},
   "outputs": [],
   "source": []
  },
  {
   "cell_type": "code",
   "execution_count": null,
   "id": "29dc760b-d206-4763-a883-11edb5f2c604",
   "metadata": {},
   "outputs": [],
   "source": []
  }
 ],
 "metadata": {
  "jupytext": {
   "formats": "ipynb,auto:light"
  },
  "kernelspec": {
   "display_name": "cook",
   "language": "python",
   "name": "cook"
  },
  "language_info": {
   "codemirror_mode": {
    "name": "ipython",
    "version": 3
   },
   "file_extension": ".py",
   "mimetype": "text/x-python",
   "name": "python",
   "nbconvert_exporter": "python",
   "pygments_lexer": "ipython3",
   "version": "3.7.11"
  }
 },
 "nbformat": 4,
 "nbformat_minor": 5
}
