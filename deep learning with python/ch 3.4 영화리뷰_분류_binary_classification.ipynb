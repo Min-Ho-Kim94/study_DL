{
 "cells": [
  {
   "cell_type": "markdown",
   "id": "f8ab58ef-cb71-4c85-b981-8ee1927fd55c",
   "metadata": {},
   "source": [
    "train compile 단계에서 고려할 3가지\n",
    "\n",
    "    1. loss function\n",
    "    2. optimizer\n",
    "    3. metrics"
   ]
  },
  {
   "cell_type": "markdown",
   "id": "70953e78-ed8f-4c7a-8a43-0df8b9a0eb2f",
   "metadata": {},
   "source": [
    "# ch. 3.4 IMDB dataset"
   ]
  },
  {
   "cell_type": "code",
   "execution_count": 7,
   "id": "92d40262-43b6-4865-9e16-4499d8cb522e",
   "metadata": {},
   "outputs": [],
   "source": [
    "import numpy as np\n",
    "from keras.datasets import imdb\n",
    "\n",
    "(train_data, train_labels), (test_data, test_labels) = imdb\\\n",
    ".load_data(num_words=10000)"
   ]
  },
  {
   "cell_type": "code",
   "execution_count": 14,
   "id": "0582d6f1-fcad-4df9-8575-aac3944de42a",
   "metadata": {},
   "outputs": [
    {
     "name": "stdout",
     "output_type": "stream",
     "text": [
      "\n",
      "train_data.shape : (25000,)\n",
      "test_data.shape : (25000,)\n",
      "\n",
      "train_labels.shape : (25000,)\n",
      "test_labels.shape: : (25000,)\n",
      "\n"
     ]
    }
   ],
   "source": [
    "print(f'''\n",
    "train_data.shape : {train_data.shape}\n",
    "test_data.shape : {test_data.shape}\n",
    "\n",
    "train_labels.shape : {train_labels.shape}\n",
    "test_labels.shape: : {test_labels.shape}\n",
    "''')"
   ]
  },
  {
   "cell_type": "code",
   "execution_count": 25,
   "id": "7a703977-ec7c-4e9d-ab0b-3baa217b3a5c",
   "metadata": {},
   "outputs": [
    {
     "data": {
      "text/plain": [
       "array([list([1, 14, 22, 16, 43, 530, 973, 1622, 1385, 65, 458, 4468, 66, 3941, 4, 173, 36, 256, 5, 25, 100, 43, 838, 112, 50, 670, 2, 9, 35, 480, 284, 5, 150, 4, 172, 112, 167, 2, 336, 385, 39, 4, 172, 4536, 1111, 17, 546, 38, 13, 447, 4, 192, 50, 16, 6, 147, 2025, 19, 14, 22, 4, 1920, 4613, 469, 4, 22, 71, 87, 12, 16, 43, 530, 38, 76, 15, 13, 1247, 4, 22, 17, 515, 17, 12, 16, 626, 18, 2, 5, 62, 386, 12, 8, 316, 8, 106, 5, 4, 2223, 5244, 16, 480, 66, 3785, 33, 4, 130, 12, 16, 38, 619, 5, 25, 124, 51, 36, 135, 48, 25, 1415, 33, 6, 22, 12, 215, 28, 77, 52, 5, 14, 407, 16, 82, 2, 8, 4, 107, 117, 5952, 15, 256, 4, 2, 7, 3766, 5, 723, 36, 71, 43, 530, 476, 26, 400, 317, 46, 7, 4, 2, 1029, 13, 104, 88, 4, 381, 15, 297, 98, 32, 2071, 56, 26, 141, 6, 194, 7486, 18, 4, 226, 22, 21, 134, 476, 26, 480, 5, 144, 30, 5535, 18, 51, 36, 28, 224, 92, 25, 104, 4, 226, 65, 16, 38, 1334, 88, 12, 16, 283, 5, 16, 4472, 113, 103, 32, 15, 16, 5345, 19, 178, 32])],\n",
       "      dtype=object)"
      ]
     },
     "execution_count": 25,
     "metadata": {},
     "output_type": "execute_result"
    }
   ],
   "source": [
    "train_data[[0]]"
   ]
  },
  {
   "cell_type": "code",
   "execution_count": 17,
   "id": "5352fa55-06ee-42d5-8bdd-13ec4fa52f65",
   "metadata": {},
   "outputs": [
    {
     "data": {
      "text/plain": [
       "array([1, 0, 0, ..., 0, 1, 0], dtype=int64)"
      ]
     },
     "execution_count": 17,
     "metadata": {},
     "output_type": "execute_result"
    }
   ],
   "source": [
    "# 0 : 긍정 / 1 : 부정\n",
    "train_labels"
   ]
  },
  {
   "cell_type": "code",
   "execution_count": 22,
   "id": "eadc92f5-dac6-41b3-8627-2a520e15bf8b",
   "metadata": {},
   "outputs": [],
   "source": [
    "# 원래 영어단어 사전 불러와서 mapping(decoding)\n",
    "word_index = imdb.get_word_index()\n",
    "reverse_word_index = dict([\n",
    "    (value, key) for (key, value) in word_index.items()\n",
    "])\n",
    "decoded_review = ' '.join([\n",
    "    reverse_word_index.get(i - 3, '?') for i in train_data[0]\n",
    "])\n"
   ]
  },
  {
   "cell_type": "code",
   "execution_count": 23,
   "id": "f9f58da9-88c5-4b96-a1f6-a3a99198ecec",
   "metadata": {},
   "outputs": [
    {
     "data": {
      "text/plain": [
       "\"? this film was just brilliant casting location scenery story direction everyone's really suited the part they played and you could just imagine being there robert ? is an amazing actor and now the same being director ? father came from the same scottish island as myself so i loved the fact there was a real connection with this film the witty remarks throughout the film were great it was just brilliant so much that i bought the film as soon as it was released for ? and would recommend it to everyone to watch and the fly fishing was amazing really cried at the end it was so sad and you know what they say if you cry at a film it must have been good and this definitely was also ? to the two little boy's that played the ? of norman and paul they were just brilliant children are often left out of the ? list i think because the stars that play them all grown up are such a big profile for the whole film but these children are amazing and should be praised for what they have done don't you think the whole story was so lovely because it was true and was someone's life after all that was shared with us all\""
      ]
     },
     "execution_count": 23,
     "metadata": {},
     "output_type": "execute_result"
    }
   ],
   "source": [
    "decoded_review"
   ]
  },
  {
   "cell_type": "markdown",
   "id": "d52a96d2-8e1a-4b75-a536-c556ef5ef58e",
   "metadata": {},
   "source": [
    "## 1 데이터 준비 (3.4.2)\n",
    "\n",
    "- list to tensor (1D -> 2D)\n",
    "\n",
    "    여기서는 one hot encoding 이용"
   ]
  },
  {
   "cell_type": "code",
   "execution_count": 26,
   "id": "4d21ebba-7d19-44b8-bab6-13ad2ad9b6ca",
   "metadata": {},
   "outputs": [
    {
     "data": {
      "text/plain": [
       "array([0., 1., 1., ..., 0., 0., 0.])"
      ]
     },
     "execution_count": 26,
     "metadata": {},
     "output_type": "execute_result"
    }
   ],
   "source": [
    "def vectorize_sequences(sequences, dimension=10000):\n",
    "    results = np.zeros((len(sequences), dimension))\n",
    "    for i, sequence in enumerate(sequences):\n",
    "        results[i, sequence] = 1.\n",
    "    return results\n",
    "x_train = vectorize_sequences(train_data)\n",
    "x_test = vectorize_sequences(test_data)\n",
    "x_train[0]"
   ]
  },
  {
   "cell_type": "code",
   "execution_count": 29,
   "id": "40934599-cc87-439b-86e0-263ae17e9014",
   "metadata": {},
   "outputs": [
    {
     "data": {
      "text/plain": [
       "array([1., 0., 0., ..., 0., 1., 0.], dtype=float32)"
      ]
     },
     "execution_count": 29,
     "metadata": {},
     "output_type": "execute_result"
    }
   ],
   "source": [
    "y_train = np.asarray(train_labels).astype('float32')\n",
    "y_test = np.asarray(test_labels).astype('float32')\n",
    "y_train"
   ]
  },
  {
   "cell_type": "code",
   "execution_count": 28,
   "id": "b0dca78f-12ca-4ed1-8665-e5a22e572a6a",
   "metadata": {},
   "outputs": [
    {
     "name": "stdout",
     "output_type": "stream",
     "text": [
      "\n",
      "x_train.shape : (25000, 10000)\n",
      "x_test.shape : (25000, 10000)\n",
      "\n",
      "y_train.shape : (25000,)\n",
      "y_test.shape: : (25000,)\n",
      "\n"
     ]
    }
   ],
   "source": [
    "print(f'''\n",
    "x_train.shape : {x_train.shape}\n",
    "x_test.shape : {x_test.shape}\n",
    "\n",
    "y_train.shape : {y_train.shape}\n",
    "y_test.shape: : {y_test.shape}\n",
    "''')"
   ]
  },
  {
   "cell_type": "markdown",
   "id": "f80788d8-f8ac-46a1-86b1-6db9e07e21d3",
   "metadata": {},
   "source": [
    "## 2 모델 정의.\n",
    "\n",
    "1. Affine - Relu (hidden size = 16)\n",
    "2. Affine - Relu (hidden size = 16)\n",
    "3. Sigmoid"
   ]
  },
  {
   "cell_type": "code",
   "execution_count": 32,
   "id": "508a74cd-ff2d-47da-9c64-6bed7bd3f86d",
   "metadata": {},
   "outputs": [],
   "source": [
    "from keras import models\n",
    "from keras import layers\n",
    "\n",
    "model = models.Sequential()\n",
    "model.add(layers.Dense(16, activation='relu', input_shape=(10000,)))\n",
    "model.add(layers.Dense(16, activation='relu'))\n",
    "model.add(layers.Dense(1, activation='sigmoid'))"
   ]
  },
  {
   "cell_type": "markdown",
   "id": "0178499b-eb77-4fa3-98c0-21c797449008",
   "metadata": {},
   "source": [
    "## 3 모델 컴파일\n",
    "\n",
    "1. optimizer : rmsprop\n",
    "2. loss : binary_crossentropy\n",
    "3. metrics : accuracy"
   ]
  },
  {
   "cell_type": "code",
   "execution_count": null,
   "id": "5676f10d-303e-442d-9a39-150496bac796",
   "metadata": {},
   "outputs": [],
   "source": [
    "model.compile(optimizer='rmsprop',\n",
    "              loss='binary_crossentropy',\n",
    "              metrics=['accuracy'])"
   ]
  },
  {
   "cell_type": "code",
   "execution_count": 39,
   "id": "108dac0e-9a98-4664-acaf-3c2f3d224552",
   "metadata": {},
   "outputs": [],
   "source": [
    "from tensorflow.keras import optimizers\n",
    "from tensorflow.keras import losses\n",
    "from tensorflow.keras import metrics\n",
    "\n",
    "model.compile(optimizer=optimizers.RMSprop(lr=0.001),\n",
    "              loss=losses.binary_crossentropy,\n",
    "              metrics=[metrics.binary_accuracy])"
   ]
  },
  {
   "cell_type": "markdown",
   "id": "2e1c5de7-46db-4ad5-90ee-d224326e8a79",
   "metadata": {},
   "source": [
    "## 4 훈련 검증"
   ]
  },
  {
   "cell_type": "code",
   "execution_count": 42,
   "id": "ccf08b4f-8054-46fe-a79d-22d172140f94",
   "metadata": {},
   "outputs": [],
   "source": [
    "x_val = x_train[:10000]\n",
    "partial_x_train = x_train[10000:]\n",
    "y_val = y_train[:10000]\n",
    "partial_y_train = y_train[10000:]"
   ]
  },
  {
   "cell_type": "code",
   "execution_count": 44,
   "id": "86346d7c-4b4f-4828-a156-aa3595871c00",
   "metadata": {},
   "outputs": [
    {
     "data": {
      "text/plain": [
       "((10000, 10000), (15000, 10000))"
      ]
     },
     "execution_count": 44,
     "metadata": {},
     "output_type": "execute_result"
    }
   ],
   "source": [
    "x_val.shape, partial_x_train.shape"
   ]
  },
  {
   "cell_type": "code",
   "execution_count": 56,
   "id": "98aa356d-8dd9-448f-a407-0b5242197cf8",
   "metadata": {},
   "outputs": [
    {
     "name": "stdout",
     "output_type": "stream",
     "text": [
      "Epoch 1/4\n",
      "30/30 [==============================] - 3s 83ms/step - loss: 0.0065 - binary_accuracy: 0.9993 - val_loss: 0.7048 - val_binary_accuracy: 0.8649\n",
      "Epoch 2/4\n",
      "30/30 [==============================] - 1s 27ms/step - loss: 0.0035 - binary_accuracy: 0.9998 - val_loss: 0.7477 - val_binary_accuracy: 0.8638\n",
      "Epoch 3/4\n",
      "30/30 [==============================] - 1s 26ms/step - loss: 0.0042 - binary_accuracy: 0.9993 - val_loss: 0.7904 - val_binary_accuracy: 0.8636\n",
      "Epoch 4/4\n",
      "30/30 [==============================] - 1s 20ms/step - loss: 0.0019 - binary_accuracy: 0.9999 - val_loss: 0.8291 - val_binary_accuracy: 0.8631\n"
     ]
    }
   ],
   "source": [
    "history = model.fit(partial_x_train,\n",
    "                    partial_y_train,\n",
    "                    epochs=4, # 20\n",
    "                    batch_size=512,\n",
    "                    validation_data=(x_val, y_val))"
   ]
  },
  {
   "cell_type": "code",
   "execution_count": 57,
   "id": "d244d661-e1ad-48e2-ac76-bbed5472da04",
   "metadata": {},
   "outputs": [
    {
     "data": {
      "text/plain": [
       "dict_keys(['loss', 'binary_accuracy', 'val_loss', 'val_binary_accuracy'])"
      ]
     },
     "execution_count": 57,
     "metadata": {},
     "output_type": "execute_result"
    }
   ],
   "source": [
    "history_dict = history.history\n",
    "history_dict.keys()"
   ]
  },
  {
   "cell_type": "code",
   "execution_count": 58,
   "id": "2b6671e7-2af8-4ad6-b6f3-b2178d816edd",
   "metadata": {},
   "outputs": [
    {
     "data": {
      "image/png": "[encoded data removed]",
      "text/plain": [
       "<Figure size 432x288 with 1 Axes>"
      ]
     },
     "metadata": {
      "needs_background": "light"
     },
     "output_type": "display_data"
    }
   ],
   "source": [
    "import matplotlib.pyplot as plt\n",
    "\n",
    "loss = history_dict['loss']\n",
    "val_loss = history_dict['val_loss']\n",
    "\n",
    "epochs = range(1, len(loss) + 1)\n",
    "\n",
    "plt.plot(epochs, loss, 'bo', label='Training loss')\n",
    "plt.plot(epochs, val_loss, 'b', label='Validation loss')\n",
    "plt.title('Training and Validation loss')\n",
    "plt.xlabel('Epochs')\n",
    "plt.ylabel('Loss')\n",
    "plt.legend()\n",
    "\n",
    "plt.show()"
   ]
  },
  {
   "cell_type": "code",
   "execution_count": 59,
   "id": "25053ee5-a974-457a-9362-8387cd907019",
   "metadata": {},
   "outputs": [
    {
     "data": {
      "image/png": "[encoded data removed]",
      "text/plain": [
       "<Figure size 432x288 with 1 Axes>"
      ]
     },
     "metadata": {
      "needs_background": "light"
     },
     "output_type": "display_data"
    }
   ],
   "source": [
    "acc = history_dict['binary_accuracy']\n",
    "val_acc = history_dict['val_binary_accuracy']\n",
    "\n",
    "plt.plot(epochs, acc, 'bo', label='Training acc')\n",
    "plt.plot(epochs, val_acc, 'b', label='Validation acc')\n",
    "plt.title('Training and Validation acc')\n",
    "plt.xlabel('Epochs')\n",
    "plt.ylabel('Acc')\n",
    "plt.legend()\n",
    "\n",
    "plt.show()"
   ]
  },
  {
   "cell_type": "code",
   "execution_count": 60,
   "id": "8c0db982-0d70-4a2f-9cd8-fb017fdd2b86",
   "metadata": {},
   "outputs": [
    {
     "name": "stdout",
     "output_type": "stream",
     "text": [
      "782/782 [==============================] - 2s 3ms/step - loss: 0.8940 - binary_accuracy: 0.8481\n"
     ]
    }
   ],
   "source": [
    "results = model.evaluate(x_test, y_test)"
   ]
  },
  {
   "cell_type": "code",
   "execution_count": 61,
   "id": "5940bfb4-1073-45ea-88f3-2f88ca28fdaa",
   "metadata": {},
   "outputs": [
    {
     "data": {
      "text/plain": [
       "[0.8940105438232422, 0.8481199741363525]"
      ]
     },
     "execution_count": 61,
     "metadata": {},
     "output_type": "execute_result"
    }
   ],
   "source": [
    "results # test loss / test accuracy"
   ]
  },
  {
   "cell_type": "code",
   "execution_count": null,
   "id": "80e70131-9b59-4270-9aba-a062b0b7501b",
   "metadata": {},
   "outputs": [],
   "source": []
  },
  {
   "cell_type": "code",
   "execution_count": null,
   "id": "62d35fb5-64bc-4648-8a4c-f26c6ae8b4c0",
   "metadata": {},
   "outputs": [],
   "source": []
  }
 ],
 "metadata": {
  "jupytext": {
   "encoding": "# -*- coding: utf-8 -*-",
   "formats": "ipynb,py:light"
  },
  "kernelspec": {
   "display_name": "cook",
   "language": "python",
   "name": "cook"
  },
  "language_info": {
   "codemirror_mode": {
    "name": "ipython",
    "version": 3
   },
   "file_extension": ".py",
   "mimetype": "text/x-python",
   "name": "python",
   "nbconvert_exporter": "python",
   "pygments_lexer": "ipython3",
   "version": "3.7.11"
  }
 },
 "nbformat": 4,
 "nbformat_minor": 5
}
