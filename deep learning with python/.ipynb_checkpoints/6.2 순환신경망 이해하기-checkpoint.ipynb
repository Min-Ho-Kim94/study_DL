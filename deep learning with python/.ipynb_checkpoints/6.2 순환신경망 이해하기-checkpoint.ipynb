{
 "cells": [
  {
   "cell_type": "code",
   "execution_count": 2,
   "id": "1087c97e-3c25-4735-b142-effd57d40740",
   "metadata": {},
   "outputs": [],
   "source": [
    "# numpy로 RNN 구현하기\n",
    "\n",
    "import numpy as np\n",
    "\n",
    "timesteps = 100    # 입력 시퀀스에 있는 타임 스텝의 수\n",
    "input_features = 32    # 입력 특성의 차원\n",
    "output_features = 64   # 출력 특성의 차원\n",
    "\n",
    "inputs = np.random.random((timesteps, input_features))\n",
    "state_t = np.zeros((output_features, ))        # 초기상태 0\n",
    "\n",
    "W = np.random.random((output_features, input_features))\n",
    "U = np.random.random((output_features, output_features))\n",
    "b = np.random.random((output_features,))\n",
    "\n",
    "successive_outputs = []\n",
    "for input_t in inputs: # input_t.shape : (input_features,)\n",
    "    output_t = np.tanh(np.dot(W, input_t) + np.dot(U, state_t) + b)\n",
    "    successive_outputs.append(output_t)\n",
    "    state_t = output_t\n",
    "final_output_sequence = np.stack(successive_outputs, axis=0) # 최종 출력 크기는 (timesteps, output_features)인 2D 텐서."
   ]
  },
  {
   "cell_type": "code",
   "execution_count": 3,
   "id": "42b964bd-82f0-4a08-bc66-42a736b83932",
   "metadata": {},
   "outputs": [
    {
     "data": {
      "text/plain": [
       "(100, 64)"
      ]
     },
     "execution_count": 3,
     "metadata": {},
     "output_type": "execute_result"
    }
   ],
   "source": [
    "final_output_sequence.shape"
   ]
  },
  {
   "cell_type": "code",
   "execution_count": 13,
   "id": "a32b5740-f308-442d-bc08-d273ed708c63",
   "metadata": {},
   "outputs": [
    {
     "data": {
      "text/plain": [
       "array([ 8.49232944,  9.00573722, 10.18562827,  8.71206077,  9.24690476,\n",
       "       10.60336331,  9.14099268,  9.82443054,  7.95305508,  9.21160214,\n",
       "        8.52780503,  9.84431411, 10.14974315,  6.63213011,  8.20422489,\n",
       "       10.10767763,  7.80470637,  8.7091744 ,  9.63193576,  9.64842531,\n",
       "        9.39527872,  8.41652063,  8.62237132,  8.79821661,  7.80492783,\n",
       "        8.3088364 ,  8.72665528,  8.40984461,  9.16467699,  9.79922554,\n",
       "        9.26859699, 10.02390711,  6.79887629,  8.68566112,  9.94461547,\n",
       "        8.54333558, 10.18940992, 10.84420302, 11.46161614, 10.21699539,\n",
       "        7.2442369 ,  8.95294791,  8.39093045,  9.39029431,  7.84496055,\n",
       "        9.61127059,  8.83175951,  9.9244018 ,  8.53144852,  9.42361086,\n",
       "        9.74683264, 10.25863182,  8.30866349, 10.28417332, 10.74666632,\n",
       "        9.46275835,  8.55153708, 10.66151708,  9.04336315,  9.66384961,\n",
       "        8.1298841 ,  7.64295379,  7.80407678,  7.30073696])"
      ]
     },
     "execution_count": 13,
     "metadata": {},
     "output_type": "execute_result"
    }
   ],
   "source": [
    "np.dot(W, input_t)"
   ]
  },
  {
   "cell_type": "markdown",
   "id": "ccf8354a-cc0f-48b8-a905-e230b882d3ce",
   "metadata": {},
   "source": [
    "## IMDB 문제 적용해보기"
   ]
  },
  {
   "cell_type": "code",
   "execution_count": 23,
   "id": "2cf9ad6a-6350-4467-bb9c-33473fc1de37",
   "metadata": {},
   "outputs": [
    {
     "name": "stdout",
     "output_type": "stream",
     "text": [
      "\n",
      "~ 1. raw datasets ~\n",
      "input_train.shape : (25000,)\n",
      "input_test.shape: (25000,)\n",
      "y_train : (25000,)\n",
      "y_test : (25000,)\n",
      "\n",
      "input_train sample : [list([1, 14, 22, 16, 43, 530, 973, 1622, 1385, 65, 458, 4468, 66, 3941, 4, 173, 36, 256, 5, 25, 100, 43, 838, 112, 50, 670, 2, 9, 35, 480, 284, 5, 150, 4, 172, 112, 167, 2, 336, 385, 39, 4, 172, 4536, 1111, 17, 546, 38, 13, 447, 4, 192, 50, 16, 6, 147, 2025, 19, 14, 22, 4, 1920, 4613, 469, 4, 22, 71, 87, 12, 16, 43, 530, 38, 76, 15, 13, 1247, 4, 22, 17, 515, 17, 12, 16, 626, 18, 2, 5, 62, 386, 12, 8, 316, 8, 106, 5, 4, 2223, 5244, 16, 480, 66, 3785, 33, 4, 130, 12, 16, 38, 619, 5, 25, 124, 51, 36, 135, 48, 25, 1415, 33, 6, 22, 12, 215, 28, 77, 52, 5, 14, 407, 16, 82, 2, 8, 4, 107, 117, 5952, 15, 256, 4, 2, 7, 3766, 5, 723, 36, 71, 43, 530, 476, 26, 400, 317, 46, 7, 4, 2, 1029, 13, 104, 88, 4, 381, 15, 297, 98, 32, 2071, 56, 26, 141, 6, 194, 7486, 18, 4, 226, 22, 21, 134, 476, 26, 480, 5, 144, 30, 5535, 18, 51, 36, 28, 224, 92, 25, 104, 4, 226, 65, 16, 38, 1334, 88, 12, 16, 283, 5, 16, 4472, 113, 103, 32, 15, 16, 5345, 19, 178, 32])\n",
      " list([1, 194, 1153, 194, 8255, 78, 228, 5, 6, 1463, 4369, 5012, 134, 26, 4, 715, 8, 118, 1634, 14, 394, 20, 13, 119, 954, 189, 102, 5, 207, 110, 3103, 21, 14, 69, 188, 8, 30, 23, 7, 4, 249, 126, 93, 4, 114, 9, 2300, 1523, 5, 647, 4, 116, 9, 35, 8163, 4, 229, 9, 340, 1322, 4, 118, 9, 4, 130, 4901, 19, 4, 1002, 5, 89, 29, 952, 46, 37, 4, 455, 9, 45, 43, 38, 1543, 1905, 398, 4, 1649, 26, 6853, 5, 163, 11, 3215, 2, 4, 1153, 9, 194, 775, 7, 8255, 2, 349, 2637, 148, 605, 2, 8003, 15, 123, 125, 68, 2, 6853, 15, 349, 165, 4362, 98, 5, 4, 228, 9, 43, 2, 1157, 15, 299, 120, 5, 120, 174, 11, 220, 175, 136, 50, 9, 4373, 228, 8255, 5, 2, 656, 245, 2350, 5, 4, 9837, 131, 152, 491, 18, 2, 32, 7464, 1212, 14, 9, 6, 371, 78, 22, 625, 64, 1382, 9, 8, 168, 145, 23, 4, 1690, 15, 16, 4, 1355, 5, 28, 6, 52, 154, 462, 33, 89, 78, 285, 16, 145, 95])\n",
      " list([1, 14, 47, 8, 30, 31, 7, 4, 249, 108, 7, 4, 5974, 54, 61, 369, 13, 71, 149, 14, 22, 112, 4, 2401, 311, 12, 16, 3711, 33, 75, 43, 1829, 296, 4, 86, 320, 35, 534, 19, 263, 4821, 1301, 4, 1873, 33, 89, 78, 12, 66, 16, 4, 360, 7, 4, 58, 316, 334, 11, 4, 1716, 43, 645, 662, 8, 257, 85, 1200, 42, 1228, 2578, 83, 68, 3912, 15, 36, 165, 1539, 278, 36, 69, 2, 780, 8, 106, 14, 6905, 1338, 18, 6, 22, 12, 215, 28, 610, 40, 6, 87, 326, 23, 2300, 21, 23, 22, 12, 272, 40, 57, 31, 11, 4, 22, 47, 6, 2307, 51, 9, 170, 23, 595, 116, 595, 1352, 13, 191, 79, 638, 89, 2, 14, 9, 8, 106, 607, 624, 35, 534, 6, 227, 7, 129, 113])\n",
      " ...\n",
      " list([1, 11, 6, 230, 245, 6401, 9, 6, 1225, 446, 2, 45, 2174, 84, 8322, 4007, 21, 4, 912, 84, 2, 325, 725, 134, 2, 1715, 84, 5, 36, 28, 57, 1099, 21, 8, 140, 8, 703, 5, 2, 84, 56, 18, 1644, 14, 9, 31, 7, 4, 9406, 1209, 2295, 2, 1008, 18, 6, 20, 207, 110, 563, 12, 8, 2901, 2, 8, 97, 6, 20, 53, 4767, 74, 4, 460, 364, 1273, 29, 270, 11, 960, 108, 45, 40, 29, 2961, 395, 11, 6, 4065, 500, 7, 2, 89, 364, 70, 29, 140, 4, 64, 4780, 11, 4, 2678, 26, 178, 4, 529, 443, 2, 5, 27, 710, 117, 2, 8123, 165, 47, 84, 37, 131, 818, 14, 595, 10, 10, 61, 1242, 1209, 10, 10, 288, 2260, 1702, 34, 2901, 2, 4, 65, 496, 4, 231, 7, 790, 5, 6, 320, 234, 2766, 234, 1119, 1574, 7, 496, 4, 139, 929, 2901, 2, 7750, 5, 4241, 18, 4, 8497, 2, 250, 11, 1818, 7561, 4, 4217, 5408, 747, 1115, 372, 1890, 1006, 541, 9303, 7, 4, 59, 2, 4, 3586, 2])\n",
      " list([1, 1446, 7079, 69, 72, 3305, 13, 610, 930, 8, 12, 582, 23, 5, 16, 484, 685, 54, 349, 11, 4120, 2959, 45, 58, 1466, 13, 197, 12, 16, 43, 23, 2, 5, 62, 30, 145, 402, 11, 4131, 51, 575, 32, 61, 369, 71, 66, 770, 12, 1054, 75, 100, 2198, 8, 4, 105, 37, 69, 147, 712, 75, 3543, 44, 257, 390, 5, 69, 263, 514, 105, 50, 286, 1814, 23, 4, 123, 13, 161, 40, 5, 421, 4, 116, 16, 897, 13, 2, 40, 319, 5872, 112, 6700, 11, 4803, 121, 25, 70, 3468, 4, 719, 3798, 13, 18, 31, 62, 40, 8, 7200, 4, 2, 7, 14, 123, 5, 942, 25, 8, 721, 12, 145, 5, 202, 12, 160, 580, 202, 12, 6, 52, 58, 2, 92, 401, 728, 12, 39, 14, 251, 8, 15, 251, 5, 2, 12, 38, 84, 80, 124, 12, 9, 23])\n",
      " list([1, 17, 6, 194, 337, 7, 4, 204, 22, 45, 254, 8, 106, 14, 123, 4, 2, 270, 2, 5, 2, 2, 732, 2098, 101, 405, 39, 14, 1034, 4, 1310, 9, 115, 50, 305, 12, 47, 4, 168, 5, 235, 7, 38, 111, 699, 102, 7, 4, 4039, 9245, 9, 24, 6, 78, 1099, 17, 2345, 2, 21, 27, 9685, 6139, 5, 2, 1603, 92, 1183, 4, 1310, 7, 4, 204, 42, 97, 90, 35, 221, 109, 29, 127, 27, 118, 8, 97, 12, 157, 21, 6789, 2, 9, 6, 66, 78, 1099, 4, 631, 1191, 5, 2642, 272, 191, 1070, 6, 7585, 8, 2197, 2, 2, 544, 5, 383, 1271, 848, 1468, 2, 497, 2, 8, 1597, 8778, 2, 21, 60, 27, 239, 9, 43, 8368, 209, 405, 10, 10, 12, 764, 40, 4, 248, 20, 12, 16, 5, 174, 1791, 72, 7, 51, 6, 1739, 22, 4, 204, 131, 9])]\n",
      "\n",
      "\n",
      "25000 훈련 시퀀스\n",
      "25000 테스트 시퀀스\n",
      "시퀀스 패딩(sample x time)\n",
      "\n",
      "~ 2. padding ~\n",
      "input_train.shape : (25000, 500)\n",
      "input_test.shape: (25000, 500)\n",
      "y_train : (25000,)\n",
      "y_test : (25000,)\n",
      "\n"
     ]
    }
   ],
   "source": [
    "from keras.datasets import imdb\n",
    "from keras.preprocessing import sequence\n",
    "\n",
    "max_features = 10000\n",
    "maxlen = 500\n",
    "batch_size = 32\n",
    "\n",
    "#데이터 로딩\n",
    "(input_train, y_train), (input_test, y_test) = imdb.load_data(num_words=max_features)\n",
    "\n",
    "print(f'''\n",
    "~ 1. raw datasets ~\n",
    "input_train.shape : {input_train.shape}\n",
    "input_test.shape: {input_test.shape}\n",
    "y_train : {y_train.shape}\n",
    "y_test : {y_test.shape}\n",
    "\n",
    "input_train sample : {input_train}\n",
    "\n",
    "''')\n",
    "\n",
    "print(len(input_train), '훈련 시퀀스')\n",
    "print(len(input_test), '테스트 시퀀스')\n",
    "\n",
    "print('시퀀스 패딩(sample x time)')\n",
    "input_train = sequence.pad_sequences(input_train, maxlen=maxlen)\n",
    "input_test = sequence.pad_sequences(input_test, maxlen=maxlen)\n",
    "\n",
    "\n",
    "print(f'''\n",
    "~ 2. padding ~\n",
    "input_train.shape : {input_train.shape}\n",
    "input_test.shape: {input_test.shape}\n",
    "y_train : {y_train.shape}\n",
    "y_test : {y_test.shape}\n",
    "''')"
   ]
  },
  {
   "cell_type": "code",
   "execution_count": null,
   "id": "b50e5c64-0029-45b4-8a10-058779a48d65",
   "metadata": {},
   "outputs": [
    {
     "name": "stdout",
     "output_type": "stream",
     "text": [
      "Epoch 1/10\n",
      "157/157 [==============================] - 35s 207ms/step - loss: 0.6384 - acc: 0.6213 - val_loss: 0.5328 - val_acc: 0.7344\n",
      "Epoch 2/10\n",
      "157/157 [==============================] - 41s 259ms/step - loss: 0.3949 - acc: 0.8331 - val_loss: 0.4103 - val_acc: 0.8150\n",
      "Epoch 3/10\n",
      "157/157 [==============================] - 37s 234ms/step - loss: 0.2837 - acc: 0.8880 - val_loss: 0.4602 - val_acc: 0.7740\n",
      "Epoch 4/10\n",
      "157/157 [==============================] - 37s 237ms/step - loss: 0.2378 - acc: 0.9050 - val_loss: 0.4443 - val_acc: 0.8080\n",
      "Epoch 5/10\n",
      "157/157 [==============================] - 39s 246ms/step - loss: 0.1741 - acc: 0.9352 - val_loss: 0.4068 - val_acc: 0.8488\n",
      "Epoch 6/10\n",
      "157/157 [==============================] - 38s 244ms/step - loss: 0.1202 - acc: 0.9575 - val_loss: 0.5219 - val_acc: 0.8062\n",
      "Epoch 7/10\n",
      "130/157 [=======================>......] - ETA: 6s - loss: 0.0704 - acc: 0.9774"
     ]
    }
   ],
   "source": [
    "# Embedding층과 SimpleRNN층을 사용해 간단한 순환 네트워크 훈련.\n",
    "from keras.layers import Dense\n",
    "from tensorflow.keras import Sequential\n",
    "from keras.layers import Embedding, SimpleRNN\n",
    "\n",
    "model = Sequential()\n",
    "model.add(Embedding(max_features, 32))\n",
    "model.add(SimpleRNN(32))\n",
    "model.add(Dense(1, activation='sigmoid'))\n",
    "\n",
    "model.compile(optimizer='rmsprop', loss='binary_crossentropy', metrics=['acc'])\n",
    "history = model.fit(input_train, y_train,\n",
    "                    epochs=10,\n",
    "                    batch_size=128,\n",
    "                    validation_split=0.2)"
   ]
  },
  {
   "cell_type": "code",
   "execution_count": null,
   "id": "c4058d88-8ac2-43db-8f46-5aa395a45dc4",
   "metadata": {},
   "outputs": [],
   "source": [
    "import matplotlib.pyplot as plt\n",
    "acc = history.history['acc']\n",
    "val_acc = history.history['val_acc']\n",
    "loss = history.history['loss']\n",
    "val_loss = history.history['val_loss']\n",
    "\n",
    "epochs = range(1, len(acc) + 1)\n",
    "print('epochs 'epochs)\n",
    "\n",
    "plt.plot(epochs, acc, 'bo', label='Training acc')\n",
    "plt.plot(epochs,val_acc, 'b', label='Validaton acc')\n",
    "plt.title('Training, Validitaion accuracy')\n",
    "plt.show()"
   ]
  },
  {
   "cell_type": "code",
   "execution_count": null,
   "id": "0a0ebd0e-ccf9-4561-b99a-62707a64f0fb",
   "metadata": {},
   "outputs": [],
   "source": [
    "plt.plot(epochs, loss, 'bo', label='Training loss')\n",
    "plt.plot(epochs,val_loss, 'b', label='Validaton loss')\n",
    "plt.title('Training, Validitaion loss')\n",
    "plt.show()"
   ]
  }
 ],
 "metadata": {
  "jupytext": {
   "encoding": "# -*- coding: utf-8 -*-",
   "formats": "ipynb,py:light"
  },
  "kernelspec": {
   "display_name": "cook",
   "language": "python",
   "name": "cook"
  },
  "language_info": {
   "codemirror_mode": {
    "name": "ipython",
    "version": 3
   },
   "file_extension": ".py",
   "mimetype": "text/x-python",
   "name": "python",
   "nbconvert_exporter": "python",
   "pygments_lexer": "ipython3",
   "version": "3.7.11"
  }
 },
 "nbformat": 4,
 "nbformat_minor": 5
}
