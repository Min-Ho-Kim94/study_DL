{
 "cells": [
  {
   "cell_type": "code",
   "execution_count": 2,
   "id": "c2239bc2-1f92-455b-a5ea-4e0742a2b0c0",
   "metadata": {},
   "outputs": [
    {
     "data": {
      "text/plain": [
       "(numpy.ndarray, numpy.ndarray)"
      ]
     },
     "execution_count": 2,
     "metadata": {},
     "output_type": "execute_result"
    }
   ],
   "source": [
    "import numpy as np\n",
    "\n",
    "x = np.array([1,2,3])\n",
    "x.__class__, type(x)"
   ]
  },
  {
   "cell_type": "code",
   "execution_count": 3,
   "id": "cd15442b-3739-4e16-a3d4-3c0a9a123806",
   "metadata": {},
   "outputs": [
    {
     "data": {
      "text/plain": [
       "((3,), 1)"
      ]
     },
     "execution_count": 3,
     "metadata": {},
     "output_type": "execute_result"
    }
   ],
   "source": [
    "x.shape, x.ndim"
   ]
  },
  {
   "cell_type": "markdown",
   "id": "1eeba993-30c1-42ac-9f10-7a57f438fcf2",
   "metadata": {},
   "source": [
    "# Affine "
   ]
  },
  {
   "cell_type": "code",
   "execution_count": 9,
   "id": "17177268-373c-4745-94c5-b3542592f333",
   "metadata": {},
   "outputs": [],
   "source": [
    "class Affine:\n",
    "    def __init__(self, W, b):\n",
    "        self.params = [W, b]\n",
    "    \n",
    "    def forward(self, x):\n",
    "        W, b = self.params\n",
    "        out = np.matmul(x, W) + b\n",
    "        return out\n",
    "    \n",
    "class Sigmoid:\n",
    "    def __init__(self):\n",
    "        self.params = []\n",
    "    \n",
    "    def forward(self, x):\n",
    "        return 1 / (1 + np.exp(-x))"
   ]
  },
  {
   "cell_type": "markdown",
   "id": "1f6853e9-4b83-4e75-bd10-e1b35414d92c",
   "metadata": {},
   "source": [
    "# TwoLayerNet"
   ]
  },
  {
   "cell_type": "code",
   "execution_count": 10,
   "id": "264291e9-5f50-4bd2-97f1-668c30078e6e",
   "metadata": {},
   "outputs": [],
   "source": [
    "class TwoLayerNet:\n",
    "    def __init__(self, input_size, hidden_size, output_size):\n",
    "        I, H, O = input_size, hidden_size, output_size\n",
    "        \n",
    "        # 가중치                  \n",
    "        W1 = np.random.randn(I, H)\n",
    "        b1 = np.random.randn(H)\n",
    "        W2 = np.random.randn(H, O)\n",
    "        b2 = np.random.randn(O)\n",
    "        \n",
    "        # 계층 생성\n",
    "        self.layers = [\n",
    "            Affine(W1, b1),\n",
    "            Sigmoid(),\n",
    "            Affine(W2, b2)\n",
    "        ]\n",
    "        \n",
    "        # 모든 가중치를 리스트엥 모은다.\n",
    "        self.params = []        \n",
    "        for layer in self.layers:\n",
    "            self.params += layer.params\n",
    "            \n",
    "    def predict(self, x):\n",
    "        for layer in self.layers:\n",
    "            x = layer.forward(x)\n",
    "        return(x)"
   ]
  },
  {
   "cell_type": "code",
   "execution_count": 8,
   "id": "03ee0751-7187-4709-9e4c-355395ad5f9a",
   "metadata": {},
   "outputs": [
    {
     "data": {
      "text/plain": [
       "array([[-0.79769828,  1.41678551],\n",
       "       [ 0.11756655,  0.76527941],\n",
       "       [-0.62248003,  2.15148499]])"
      ]
     },
     "execution_count": 8,
     "metadata": {},
     "output_type": "execute_result"
    }
   ],
   "source": [
    "np.random.randn(3, 2)"
   ]
  },
  {
   "cell_type": "code",
   "execution_count": 13,
   "id": "e37e66b7-4160-4ed2-847d-2ac4e3fe2770",
   "metadata": {},
   "outputs": [
    {
     "data": {
      "text/plain": [
       "[array([[-8.49562035e-01, -1.68303559e+00, -2.33289236e+00,\n",
       "         -1.57356522e+00,  1.86408104e-01, -1.00253898e+00,\n",
       "         -1.79471707e-01,  1.75905948e+00, -1.71230385e+00,\n",
       "         -1.17568012e-01, -2.70702338e-01,  2.01616395e+00,\n",
       "         -1.59536718e-01,  2.86193608e-01, -1.53528858e+00,\n",
       "          1.20869485e+00, -8.20095810e-01, -1.03063776e-01,\n",
       "         -1.68985959e-01, -7.44718686e-01],\n",
       "        [ 4.04990202e-01,  1.29406719e-01,  2.28080225e-01,\n",
       "         -1.10470229e+00,  1.09215646e+00,  4.16187876e-01,\n",
       "         -1.15120719e+00,  1.93545249e-01, -1.68426021e+00,\n",
       "         -1.74018660e+00,  2.20558282e-03, -1.69428021e-01,\n",
       "          2.76344413e-02, -5.06944600e-01, -1.39438768e+00,\n",
       "         -3.93160507e-01,  5.47011018e-01, -3.48827665e-01,\n",
       "          6.05442584e-01,  4.84565163e-01],\n",
       "        [-1.75558070e+00, -4.48288933e-01,  2.24205784e-01,\n",
       "         -7.48444423e-01, -1.65462555e+00,  3.76596005e-01,\n",
       "         -1.14666536e+00, -6.59799119e-01, -1.31399377e+00,\n",
       "          5.10354807e-01,  7.59043308e-02,  2.03477566e-01,\n",
       "          5.60950920e-02, -1.87974718e-01,  8.11552069e-01,\n",
       "          1.84146889e-01,  1.42138727e+00, -6.35496294e-01,\n",
       "         -1.96954301e-01, -1.05060095e+00],\n",
       "        [-2.23931572e-01, -2.24734470e+00, -9.89865602e-01,\n",
       "         -9.56420649e-01,  2.14743329e+00,  1.60886018e+00,\n",
       "         -5.02140955e-01,  4.32464761e-01,  4.62839298e-01,\n",
       "          5.57560457e-01, -4.42328074e-01,  4.12571200e-01,\n",
       "          3.21888169e-01,  7.22964349e-02, -6.91256806e-01,\n",
       "         -2.25214469e+00, -1.10567609e-01,  2.30903276e-01,\n",
       "          9.38403885e-01, -9.27512819e-01],\n",
       "        [ 1.71492607e+00, -4.59815519e-01, -4.96132050e-01,\n",
       "         -3.41805726e-01,  1.25016212e+00,  7.33682644e-01,\n",
       "         -9.90895229e-02,  1.00571300e+00, -1.00137352e+00,\n",
       "          2.82989187e-01,  1.11546909e+00, -7.53467597e-01,\n",
       "         -3.00019747e-01, -1.30404376e+00,  1.67671864e-01,\n",
       "         -1.44850938e+00, -1.25735341e+00,  1.23003365e+00,\n",
       "         -1.02540509e+00, -7.84281060e-01],\n",
       "        [ 9.65009835e-01, -1.76122707e+00,  1.13071623e+00,\n",
       "         -7.52212999e-01,  8.07581286e-01, -1.46347292e+00,\n",
       "          8.42406354e-01,  1.05762885e+00,  9.76288987e-02,\n",
       "         -8.42388519e-02, -2.07612082e-01,  6.44350100e-01,\n",
       "         -9.30840063e-01,  1.03323210e+00, -1.74989406e+00,\n",
       "          7.68688174e-02,  1.37366183e-01,  1.12605958e+00,\n",
       "          6.78417858e-01, -7.27498243e-01],\n",
       "        [-5.73575231e-01, -6.43027201e-01, -1.38895987e+00,\n",
       "         -6.16529998e-01,  1.58966165e+00, -1.37222166e+00,\n",
       "         -6.10493299e-01, -1.55386618e-01, -5.50753458e-01,\n",
       "         -6.19212224e-01, -7.69022300e-01,  9.48777797e-01,\n",
       "         -1.31132114e+00,  1.97725248e+00,  7.36631317e-01,\n",
       "          1.48744353e+00, -1.39677748e+00, -5.57679808e-01,\n",
       "          3.06136592e-01,  2.66300561e-01],\n",
       "        [-7.04703330e-01,  3.69803164e-01, -1.21515342e+00,\n",
       "         -4.02447223e-01,  7.63824345e-01, -1.21555396e+00,\n",
       "         -5.33297342e-01,  1.37773623e+00,  9.99123816e-02,\n",
       "          1.43415179e-02,  1.69878340e+00,  6.49214040e-01,\n",
       "         -8.44747930e-01, -1.45142614e+00,  7.39034969e-01,\n",
       "         -9.11600169e-01,  1.19815848e+00, -6.47689965e-01,\n",
       "         -1.15253962e+00,  2.89997153e-01],\n",
       "        [ 5.94148167e-01,  7.54724540e-01, -5.11527289e-02,\n",
       "         -3.04448251e+00,  3.49470080e-01,  1.29465202e+00,\n",
       "         -1.19070509e+00,  5.96064317e-01, -5.35539361e-01,\n",
       "          1.65057583e+00,  1.42168005e+00, -6.28776714e-01,\n",
       "         -1.21670633e+00,  1.08469850e+00,  4.95780293e-01,\n",
       "         -8.67295612e-01,  8.28144355e-01,  2.42539167e+00,\n",
       "         -1.32258163e+00,  6.59699315e-01],\n",
       "        [ 7.32395849e-02, -6.91922935e-01,  3.14476200e-01,\n",
       "          1.17471685e+00, -9.22458718e-01, -8.58081972e-01,\n",
       "         -6.42344899e-01,  1.20321815e+00,  1.41015429e-01,\n",
       "          1.22986978e-01,  1.00060298e+00, -4.59513030e-01,\n",
       "          1.58041289e+00,  3.48424942e-01, -4.72754639e-02,\n",
       "          1.27601841e-02, -8.47621394e-02, -1.16750546e+00,\n",
       "          3.34552385e-01,  3.98232440e-01]]),\n",
       " array([ 0.89486834, -0.23684499, -0.31396417, -0.55118176,  1.01820382,\n",
       "         1.02723001, -2.0571142 , -2.1199354 ,  1.14477887, -0.74858563,\n",
       "         1.72955454, -0.44408605,  0.80218536, -0.19775805,  0.35556215,\n",
       "         1.33108895,  0.99078655,  1.47413934,  1.27583228, -0.33700754]),\n",
       " array([[-1.3224199 , -1.38568834],\n",
       "        [ 1.23450253, -0.47564317],\n",
       "        [-0.79953343, -1.12517878],\n",
       "        [ 1.14832337, -1.0804044 ],\n",
       "        [-1.88363745,  0.52531545],\n",
       "        [-0.06565807,  0.70600661],\n",
       "        [-1.10738056,  0.73936153],\n",
       "        [ 0.44476162,  0.6013432 ],\n",
       "        [-0.70236429,  1.07680065],\n",
       "        [ 1.44618691, -0.27083853],\n",
       "        [ 0.46089276, -0.1573482 ],\n",
       "        [-0.72829242,  0.26327095],\n",
       "        [ 0.17843392, -0.32809646],\n",
       "        [ 0.38329567, -1.8437269 ],\n",
       "        [ 3.60951706, -0.44952101],\n",
       "        [-0.8959054 , -0.61190504],\n",
       "        [ 0.30186366, -1.07302643],\n",
       "        [ 0.93727247,  0.76616636],\n",
       "        [ 1.48925252, -0.46711817],\n",
       "        [ 1.78441375,  0.71627768]]),\n",
       " array([-1.04830223,  0.95679635])]"
      ]
     },
     "execution_count": 13,
     "metadata": {},
     "output_type": "execute_result"
    }
   ],
   "source": [
    "test = TwoLayerNet(10, 20, 2)\n",
    "test.layers\n",
    "\n",
    "test.params"
   ]
  },
  {
   "cell_type": "code",
   "execution_count": 19,
   "id": "6cd9ce21-ca13-49d3-a585-b87cc265f7a5",
   "metadata": {},
   "outputs": [
    {
     "data": {
      "text/plain": [
       "array([[-0.78535548, -4.14819133],\n",
       "       [ 2.70281495, -1.0096352 ],\n",
       "       [ 0.46966541, -2.17226365],\n",
       "       [-0.55759401,  1.69854897],\n",
       "       [ 4.524021  , -3.06594828],\n",
       "       [ 5.3170926 , -1.14514803],\n",
       "       [ 3.99476397, -3.36965465],\n",
       "       [ 3.74298166, -2.63346535],\n",
       "       [-2.01153852, -0.55238749],\n",
       "       [-2.12992766, -0.79379346]])"
      ]
     },
     "execution_count": 19,
     "metadata": {},
     "output_type": "execute_result"
    }
   ],
   "source": [
    "x = np.random.randn(10,10)\n",
    "test.predict(x)"
   ]
  },
  {
   "cell_type": "markdown",
   "id": "9c383a16-9ce5-4c89-a424-340a4f687f66",
   "metadata": {},
   "source": [
    "# spiral data"
   ]
  },
  {
   "cell_type": "code",
   "execution_count": 21,
   "id": "7ce43db5-f115-4d6a-a327-c82bbc0d9c0c",
   "metadata": {},
   "outputs": [
    {
     "name": "stdout",
     "output_type": "stream",
     "text": [
      "x (300, 2)\n",
      "t (300, 3)\n"
     ]
    }
   ],
   "source": [
    "import sys\n",
    "sys.path.append('..')\n",
    "from dataset import spiral\n",
    "import matplotlib.pyplot as plt\n",
    "\n",
    "x, t = spiral.load_data()\n",
    "print('x', x.shape)\n",
    "print('t', t.shape)"
   ]
  },
  {
   "cell_type": "code",
   "execution_count": 34,
   "id": "0e332ef2-eaf1-416b-8ceb-a55709d9417c",
   "metadata": {},
   "outputs": [
    {
     "data": {
      "image/png": "[encoded data removed]",
      "text/plain": [
       "<Figure size 432x288 with 1 Axes>"
      ]
     },
     "metadata": {
      "needs_background": "light"
     },
     "output_type": "display_data"
    }
   ],
   "source": [
    "# 데이터점 플롯\n",
    "x, t = spiral.load_data()\n",
    "N = 100\n",
    "CLS_NUM = 3\n",
    "markers = ['o', 'x', '^']\n",
    "for i in range(CLS_NUM):\n",
    "    plt.scatter(x[i*N:(i+1)*N, 0], x[i*N:(i+1)*N, 1], s=40, marker=markers[i])\n",
    "plt.show()"
   ]
  },
  {
   "cell_type": "code",
   "execution_count": null,
   "id": "e7a52708-d9e3-4f7e-a0b1-ed4e9becfb9a",
   "metadata": {},
   "outputs": [],
   "source": []
  },
  {
   "cell_type": "code",
   "execution_count": null,
   "id": "d6548272-dfc1-4ac6-b0de-29cac2a756ce",
   "metadata": {},
   "outputs": [],
   "source": []
  },
  {
   "cell_type": "code",
   "execution_count": null,
   "id": "427408d1-ef09-4137-a23a-658b91a3a96b",
   "metadata": {},
   "outputs": [],
   "source": []
  },
  {
   "cell_type": "code",
   "execution_count": null,
   "id": "2261b9ca-4f7f-4bd5-b461-418b52310c71",
   "metadata": {},
   "outputs": [],
   "source": []
  },
  {
   "cell_type": "code",
   "execution_count": null,
   "id": "f375bd8b-fbbe-4f20-abf9-b5021340ce4b",
   "metadata": {},
   "outputs": [],
   "source": []
  },
  {
   "cell_type": "code",
   "execution_count": null,
   "id": "5662f78f-f2c3-4516-9846-0d9499810461",
   "metadata": {},
   "outputs": [],
   "source": []
  },
  {
   "cell_type": "code",
   "execution_count": null,
   "id": "b22e7a95-aeb1-49c4-8da4-8ae9d24b09de",
   "metadata": {},
   "outputs": [],
   "source": []
  },
  {
   "cell_type": "code",
   "execution_count": null,
   "id": "08e620d4-a8b4-47dc-abec-e1c6e6a01134",
   "metadata": {},
   "outputs": [],
   "source": []
  },
  {
   "cell_type": "code",
   "execution_count": null,
   "id": "19a0c81d-6aeb-413f-b7ef-99d571e04a47",
   "metadata": {},
   "outputs": [],
   "source": []
  },
  {
   "cell_type": "code",
   "execution_count": null,
   "id": "c9aae9a2-92a8-4f0b-b980-af0049acd7e1",
   "metadata": {},
   "outputs": [],
   "source": []
  },
  {
   "cell_type": "code",
   "execution_count": null,
   "id": "9ca11f33-68e8-4b13-874b-bf1a20d4167c",
   "metadata": {},
   "outputs": [],
   "source": []
  }
 ],
 "metadata": {
  "jupytext": {
   "formats": "ipynb,auto:light"
  },
  "kernelspec": {
   "display_name": "cook",
   "language": "python",
   "name": "cook"
  },
  "language_info": {
   "codemirror_mode": {
    "name": "ipython",
    "version": 3
   },
   "file_extension": ".py",
   "mimetype": "text/x-python",
   "name": "python",
   "nbconvert_exporter": "python",
   "pygments_lexer": "ipython3",
   "version": "3.7.11"
  }
 },
 "nbformat": 4,
 "nbformat_minor": 5
}
